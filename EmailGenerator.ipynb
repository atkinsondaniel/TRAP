{
 "cells": [
  {
   "cell_type": "code",
   "execution_count": 1,
   "metadata": {},
   "outputs": [
    {
     "name": "stderr",
     "output_type": "stream",
     "text": [
      "WARNING: Logging before flag parsing goes to stderr.\n",
      "W0723 16:33:29.479971 140444082624256 deprecation_wrapper.py:119] From /home/jupyter/.local/lib/python3.5/site-packages/gpt_2_simple/src/memory_saving_gradients.py:13: The name tf.GraphKeys is deprecated. Please use tf.compat.v1.GraphKeys instead.\n",
      "\n"
     ]
    }
   ],
   "source": [
    "import gpt_2_simple as gpt"
   ]
  },
  {
   "cell_type": "code",
   "execution_count": 2,
   "metadata": {},
   "outputs": [],
   "source": [
    "model_name = \"345M\""
   ]
  },
  {
   "cell_type": "code",
   "execution_count": 3,
   "metadata": {},
   "outputs": [
    {
     "name": "stderr",
     "output_type": "stream",
     "text": [
      "W0723 16:33:30.260952 140444082624256 deprecation_wrapper.py:119] From /home/jupyter/.local/lib/python3.5/site-packages/gpt_2_simple/gpt_2.py:90: The name tf.ConfigProto is deprecated. Please use tf.compat.v1.ConfigProto instead.\n",
      "\n",
      "W0723 16:33:30.262707 140444082624256 deprecation_wrapper.py:119] From /home/jupyter/.local/lib/python3.5/site-packages/gpt_2_simple/gpt_2.py:100: The name tf.Session is deprecated. Please use tf.compat.v1.Session instead.\n",
      "\n"
     ]
    }
   ],
   "source": [
    "sess = gpt.start_tf_sess()"
   ]
  },
  {
   "cell_type": "code",
   "execution_count": 4,
   "metadata": {},
   "outputs": [
    {
     "name": "stderr",
     "output_type": "stream",
     "text": [
      "W0723 16:33:32.645218 140444082624256 deprecation_wrapper.py:119] From /home/jupyter/.local/lib/python3.5/site-packages/gpt_2_simple/gpt_2.py:340: The name tf.placeholder is deprecated. Please use tf.compat.v1.placeholder instead.\n",
      "\n",
      "W0723 16:33:32.649016 140444082624256 deprecation_wrapper.py:119] From /home/jupyter/.local/lib/python3.5/site-packages/gpt_2_simple/src/model.py:148: The name tf.variable_scope is deprecated. Please use tf.compat.v1.variable_scope instead.\n",
      "\n",
      "W0723 16:33:38.581377 140444082624256 deprecation_wrapper.py:119] From /home/jupyter/.local/lib/python3.5/site-packages/gpt_2_simple/gpt_2.py:344: The name tf.train.Saver is deprecated. Please use tf.compat.v1.train.Saver instead.\n",
      "\n",
      "W0723 16:33:39.868032 140444082624256 deprecation.py:323] From /usr/local/lib/python3.5/dist-packages/tensorflow/python/training/saver.py:1276: checkpoint_exists (from tensorflow.python.training.checkpoint_management) is deprecated and will be removed in a future version.\n",
      "Instructions for updating:\n",
      "Use standard file APIs to check for files with this prefix.\n"
     ]
    },
    {
     "name": "stdout",
     "output_type": "stream",
     "text": [
      "Loading checkpoint checkpoint/run1/model-1000\n"
     ]
    }
   ],
   "source": [
    "gpt.load_gpt2(sess)"
   ]
  },
  {
   "cell_type": "code",
   "execution_count": 5,
   "metadata": {},
   "outputs": [
    {
     "name": "stderr",
     "output_type": "stream",
     "text": [
      "W0723 16:33:50.004378 140444082624256 deprecation.py:323] From /home/jupyter/.local/lib/python3.5/site-packages/gpt_2_simple/src/sample.py:71: to_float (from tensorflow.python.ops.math_ops) is deprecated and will be removed in a future version.\n",
      "Instructions for updating:\n",
      "Use `tf.cast` instead.\n",
      "W0723 16:33:50.008118 140444082624256 deprecation.py:323] From /home/jupyter/.local/lib/python3.5/site-packages/gpt_2_simple/src/sample.py:77: multinomial (from tensorflow.python.ops.random_ops) is deprecated and will be removed in a future version.\n",
      "Instructions for updating:\n",
      "Use `tf.random.categorical` instead.\n"
     ]
    },
    {
     "name": "stdout",
     "output_type": "stream",
     "text": [
      "<-start->\n",
      "Dear Sir/madam, \n",
      "I am Mr. Fred Wilson. I am the first and the only surviving son of Mrs. Chelsea Wilson, who was murdered on the 6th of June 1999, by the Army of South Africa in the struggle for democratic change in Zimbabwe. I lost my father to the South African Army during the struggle for democratic change in Zimbabwe, which led to the overthrow of President Robert Mugabe by the government of President Robert Mugabe. \n",
      "After the overthrow of President Mugabe, Mugabe appointed his second wife, Mrs. Elizabeth Owa to the post of president of Zimbabwe. \n",
      "She was responsible for the appointment of the Mugabe2 War Crimes Tribunal, which the Mugabe government has been using to settle successful cases of Mugabe2 War Criminals.\n",
      "The Mugabe2 War Crimes Tribunal is a part of the Mugabe2 Government, which Mugabe2 Mugabe2 Mugabe2 Mugabe2 Mugabe2 Mugabe2 Mugabe2 Mugabe2 Mugabe2 Mugabe2 Mugabe2 Mugabe2 Mugabe2 Mugabe2 Mugabe2 Mugabe2 Mugabe2 Mugabe2 Mugabe2 Mugabe2 Mugabe2 Mugabe2 Mugabe2 Mugabe2 Mugabe2 Mugabe2 Mugabe2 Mugabe2 Mugabe2 Mugabe2 Mugabe2 Mugabe2 Mugabe2 Mugabe2 Mugabe2 Mugabe2 Mugabe2 Mugabe2 Mugabe2 Mugabe2 Mugabe2 Mugabe2 Mugabe2 Mugabe2 Mugabe2 Mugabe2 Mugabe2 Mugabe2 Mugabe2 Mugabe2 Mugabe2 Mugabe2 Mugabe2 Mugabe2 Mugabe2 Mugabe2 Mugabe2 Mugabe2 Mugabe2 Mugabe2 Mugabe2 Mugabe2 Mugabe2 Mugabe2 Mugabe2 Mugabe2 Mugabe2 Mugabe2 Mugabe2 Mugabe2 Mugabe2 Mugabe2 Mugabe2 Mugabe2 Mugabe2 Mugabe2 Mugabe2 Mugabe2 Mugabe2 Mugabe2 Mugabe2 Mugabe2 Mugabe2 Mugabe2 Mugabe2 Mugabe2 Mugabe2 Mugabe2\n",
      "Mr. Fred Wilson died on the 7th of June 1999, from wounds sustained during the struggle for democratic change in Zimbabwe. \n",
      "After the overthrow of President Mugabe, Mugabe2 Mugabe2 Mugabe2 Mugabe2 Mugabe2 Mugabe2 Mugabe2 Mugabe2 Mugabe2 Mugabe2 Mugabe2 Mugabe2 Mugabe2 Mugabe2 Mugabe2 Mugabe2 Mugabe2 Mugabe2 Mugabe2 Mugabe2 Mugabe2 Mugabe2 Mugabe2 Mugabe2 Mugabe2 Mugabe2 Mugabe2 Mugabe2 Mugabe2 Mugabe2 Mugabe2 Mugabe2 Mugabe2 Mugabe2 Mugabe2 Mugabe2 Mugabe2 Mugabe2 Mugabe2 Mugabe2 Mugabe2 Mugabe2 Mugabe2 Mugabe2 Mugabe2 Mugabe2 Mugabe2 Mugabe2 Mugabe2 Mugabe2 Mugabe2 Mugabe2 Mugabe2 Mugabe2 Mugabe2 Mugabe2 Mugabe2 Mugabe2 Mugabe2 Mugabe2 Mugabe2 Mugabe2 Mugabe2 Mugabe2 Mugabe2 Mugabe2 Mugabe2 Mugabe2 Mugabe2 Mugabe2 Mugabe2 Mugabe2 Mugabe2 Mugabe2 Mugabe2 Mugabe2 Mugabe2 Mugabe2 Mugabe2 Mugabe2 Mugabe2 Mugabe2 Mugabe2 Mugabe2 Mugabe2 Mugabe2 Mugabe2 Mugabe2 Mugabe2 Mugabe2 Mugabe2 Mugabe2 Mugabe2 Mugabe2 Mugabe2 Mugabe2 Mugabe2 Mugabe2 Mugabe2 Mugabe2 Mugabe2 Mugabe2 Mugabe2 Mugabe2 Mugabe2 Mugabe2 Mugabe2 Mugabe2 Mugabe2 Mugabe2 Mugabe2 Mugabe2 Mugabe2 Mugabe2 Mugabe2 Mugabe2 Mugabe2 Mugabe2 Mugabe2 Mugabe2 Mugabe2 Mugabe2 Mugabe2 Mugabe2 Mugabe2 Mugabe2 Mugabe2 Mugabe2 Mugabe2 Mugabe2 Mugabe2 Mugabe2 Mugabe2 Mugabe2 Mugabe2 Mugabe2 Mugabe2 Mugabe2 Mugabe2 Mugabe2 Mugabe2 Mugabe2 Mugabe2 Mugabe2 Mugabe2 Mugabe2 Mugabe2 Mugabe2 Mugabe2 Mugabe2 Mugabe2 Mugabe2 Mugabe2 Mugabe2 Mugabe2 Mugabe2 Mugabe2 Mugabe2 Mugabe2 Mugabe2 Mugabe2 Mugabe2 Mugabe2 Mugabe2 Mugabe2 Mugabe2 Mugabe2 Mugabe2 Mugabe2 Mugabe2 Mugabe2 Mugabe2 Mugabe2 Mugabe2 Mugabe2 Mugabe2 Mugabe2 Mugabe2 Mugabe2 Mugabe\n"
     ]
    }
   ],
   "source": [
    "gpt.generate(sess,truncate=\"<-end->\", prefix=\"<-start->\")"
   ]
  },
  {
   "cell_type": "code",
   "execution_count": null,
   "metadata": {},
   "outputs": [],
   "source": []
  }
 ],
 "metadata": {
  "kernelspec": {
   "display_name": "Python 3",
   "language": "python",
   "name": "python3"
  },
  "language_info": {
   "codemirror_mode": {
    "name": "ipython",
    "version": 3
   },
   "file_extension": ".py",
   "mimetype": "text/x-python",
   "name": "python",
   "nbconvert_exporter": "python",
   "pygments_lexer": "ipython3",
   "version": "3.5.3"
  }
 },
 "nbformat": 4,
 "nbformat_minor": 2
}
